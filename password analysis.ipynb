{
 "cells": [
  {
   "cell_type": "markdown",
   "metadata": {},
   "source": [
    "# Introduction\n",
    "The motivation behind this notebook is to determine how strong a password is. And not just by looking at entropy analysis or how complex a password is, but by looking at the correlation of password strength and how it varies when compared against a number of different categories which we can categorize the password string by.\n",
    "\n",
    "# Background Research and Hypothesis\n",
    "It is so often said to us that we should use passwords that are not common words. But let's say my password is 'klo$0', instead of what I would usually use (not) 'y@tin'.\n",
    "\n",
    "Both these passwords are 5 characters each. The idea is that a computer program can probably guess these passwords in an insignificant amount of time can be worrying. Let's just try it ourselves and see how long it would take for a computer to find these two passwords:"
   ]
  },
  {
   "cell_type": "code",
   "execution_count": 1,
   "metadata": {
    "collapsed": false
   },
   "outputs": [
    {
     "name": "stdout",
     "output_type": "stream",
     "text": [
      "It took 0.0001959801 seconds to guess a random 5 character string from a range of characters 94 characters long\n"
     ]
    }
   ],
   "source": [
    "import time\n",
    "import string\n",
    "import random\n",
    "\n",
    "# all the characters that can be used in a password\n",
    "all_chars = string.ascii_uppercase + string.ascii_lowercase + string.punctuation + string.digits\n",
    "slen = len(all_chars)\n",
    "# calculating time for random 5 character string:\n",
    "start_rand = time.time()\n",
    "check = ''.join(random.choice(all_chars) for _ in range(5))\n",
    "end_rand = time.time()\n",
    "elapsed = end_rand - start_rand\n",
    "print(\"It took {0:.10f} seconds to guess a random 5 character string from a range of characters {1} characters long\".format(elapsed, slen))"
   ]
  },
  {
   "cell_type": "markdown",
   "metadata": {},
   "source": [
    "We know that there are 5 possibilities, and we also know that there are 94 characters to chose from. So we can have 94^6 possible combinations of possible 6 character strings. As such, we can multiply the number of combinations with the amount of time it takes to compute one combination, and find out how much time (years) it would have at most taken to guess a random password of 5 characters. "
   ]
  },
  {
   "cell_type": "code",
   "execution_count": 2,
   "metadata": {
    "collapsed": false
   },
   "outputs": [
    {
     "name": "stdout",
     "output_type": "stream",
     "text": [
      "It will take at most 0.045608 years to guess your 5 character password!\n"
     ]
    }
   ],
   "source": [
    "pos = 94 ** 5\n",
    "total = pos * elapsed # total time taken\n",
    "days = total / 86400 # seconds to days conversion\n",
    "years = days / 365 # days to years conversion\n",
    "print(\"It will take at most {0:.5} years to guess your 5 character password!\".format(years))"
   ]
  },
  {
   "cell_type": "markdown",
   "metadata": {},
   "source": [
    "So if I don't change my password every few weeks, it could potentially be hacked. Now obviously my password is not that low, because let's observe what happens when we change the number of characters in the password from 5 to 12."
   ]
  },
  {
   "cell_type": "code",
   "execution_count": 3,
   "metadata": {
    "collapsed": false,
    "scrolled": true
   },
   "outputs": [],
   "source": [
    "import pandas as pd\n",
    "import numpy as np\n",
    "import matplotlib\n",
    "from matplotlib import pyplot as plt\n",
    "%matplotlib inline\n",
    "%config InlineBackend.figure_format = 'retina'\n",
    "import seaborn as sns\n",
    "\n",
    "# define function to check for how long it would take to generate passowrd of n characters\n",
    "pass_speeds = [] # parallel lists keeping track of speeds and corresponding number of chars\n",
    "num_chars = []\n",
    "def guess(n):\n",
    "    check = ''.join(random.choice(all_chars) for _ in range(n))\n",
    "    pos = 94 ** n\n",
    "    total = pos * elapsed # total time taken\n",
    "    days = total / 86400 # seconds to days conversion\n",
    "    years = days / 365 # days to years conversion\n",
    "    years = float(\"{0:.2f}\".format(years))\n",
    "    num_chars.append(str(n) + \" characters\")\n",
    "    pass_speeds.append(str(years) + \" years\")\n",
    "\n",
    "\n",
    "# call function from ranges of 5 to 12 to populate dictionary with values\n",
    "for i in range(5,13):\n",
    "    guess(i)\n",
    "\n",
    "# create data frame with speeds of corresponding password lengths\n",
    "speeds = pd.DataFrame({\"time taken to crack\": pass_speeds, \"length of password\": num_chars})"
   ]
  },
  {
   "cell_type": "markdown",
   "metadata": {},
   "source": [
    "Look at that, the longer your password is, the longer it will take to crack it using a computer. At this point it is probably right to think that it might be a bit overkill to make a password of anything near 9 characters. But remember that these operations can be made easier with synchronization of more than one computer together, and these computers that which can probably operate at much, much higher speeds than mine. This website https://www.password-depot.com/know-how/brute-force-attacks.htm shows to us that in the http://www.distributed.net/RC5/en project, multiple contributors can try up to a total of 800 billion keys per second. And this drastically decreases the amount of time needed to crack passwords of a length between 5-12."
   ]
  },
  {
   "cell_type": "code",
   "execution_count": 4,
   "metadata": {
    "collapsed": false
   },
   "outputs": [
    {
     "name": "stdout",
     "output_type": "stream",
     "text": [
      "at 800 billion keystrokes per second data\n",
      " -----------------------\n"
     ]
    },
    {
     "data": {
      "text/html": [
       "<div>\n",
       "<table border=\"1\" class=\"dataframe\">\n",
       "  <thead>\n",
       "    <tr style=\"text-align: right;\">\n",
       "      <th></th>\n",
       "      <th>length of password</th>\n",
       "      <th>time taken to crack</th>\n",
       "    </tr>\n",
       "  </thead>\n",
       "  <tbody>\n",
       "    <tr>\n",
       "      <th>0</th>\n",
       "      <td>5 characters</td>\n",
       "      <td>0.03 seconds</td>\n",
       "    </tr>\n",
       "    <tr>\n",
       "      <th>1</th>\n",
       "      <td>7 characters</td>\n",
       "      <td>approx, 9 minutes</td>\n",
       "    </tr>\n",
       "    <tr>\n",
       "      <th>2</th>\n",
       "      <td>8 characters</td>\n",
       "      <td>approx, 2,6 days</td>\n",
       "    </tr>\n",
       "    <tr>\n",
       "      <th>3</th>\n",
       "      <td>9 characters</td>\n",
       "      <td>approx, 9,1 years</td>\n",
       "    </tr>\n",
       "    <tr>\n",
       "      <th>4</th>\n",
       "      <td>12 characters</td>\n",
       "      <td>approx, 7,5 million years</td>\n",
       "    </tr>\n",
       "  </tbody>\n",
       "</table>\n",
       "</div>"
      ],
      "text/plain": [
       "  length of password        time taken to crack\n",
       "0       5 characters               0.03 seconds\n",
       "1       7 characters          approx, 9 minutes\n",
       "2       8 characters           approx, 2,6 days\n",
       "3       9 characters          approx, 9,1 years\n",
       "4     12 characters   approx, 7,5 million years"
      ]
     },
     "metadata": {},
     "output_type": "display_data"
    },
    {
     "name": "stdout",
     "output_type": "stream",
     "text": [
      "at my computer's speed\n",
      " -----------------------\n"
     ]
    },
    {
     "data": {
      "text/html": [
       "<div>\n",
       "<table border=\"1\" class=\"dataframe\">\n",
       "  <thead>\n",
       "    <tr style=\"text-align: right;\">\n",
       "      <th></th>\n",
       "      <th>length of password</th>\n",
       "      <th>time taken to crack</th>\n",
       "    </tr>\n",
       "  </thead>\n",
       "  <tbody>\n",
       "    <tr>\n",
       "      <th>0</th>\n",
       "      <td>5 characters</td>\n",
       "      <td>0.05 years</td>\n",
       "    </tr>\n",
       "    <tr>\n",
       "      <th>1</th>\n",
       "      <td>6 characters</td>\n",
       "      <td>4.29 years</td>\n",
       "    </tr>\n",
       "    <tr>\n",
       "      <th>2</th>\n",
       "      <td>7 characters</td>\n",
       "      <td>403.0 years</td>\n",
       "    </tr>\n",
       "    <tr>\n",
       "      <th>3</th>\n",
       "      <td>8 characters</td>\n",
       "      <td>37881.58 years</td>\n",
       "    </tr>\n",
       "    <tr>\n",
       "      <th>4</th>\n",
       "      <td>9 characters</td>\n",
       "      <td>3560868.93 years</td>\n",
       "    </tr>\n",
       "    <tr>\n",
       "      <th>5</th>\n",
       "      <td>10 characters</td>\n",
       "      <td>334721679.52 years</td>\n",
       "    </tr>\n",
       "    <tr>\n",
       "      <th>6</th>\n",
       "      <td>11 characters</td>\n",
       "      <td>31463837874.51 years</td>\n",
       "    </tr>\n",
       "    <tr>\n",
       "      <th>7</th>\n",
       "      <td>12 characters</td>\n",
       "      <td>2957600760203.73 years</td>\n",
       "    </tr>\n",
       "  </tbody>\n",
       "</table>\n",
       "</div>"
      ],
      "text/plain": [
       "  length of password     time taken to crack\n",
       "0       5 characters              0.05 years\n",
       "1       6 characters              4.29 years\n",
       "2       7 characters             403.0 years\n",
       "3       8 characters          37881.58 years\n",
       "4       9 characters        3560868.93 years\n",
       "5      10 characters      334721679.52 years\n",
       "6      11 characters    31463837874.51 years\n",
       "7      12 characters  2957600760203.73 years"
      ]
     },
     "metadata": {},
     "output_type": "display_data"
    }
   ],
   "source": [
    "import urllib\n",
    "from bs4 import BeautifulSoup\n",
    "from IPython.display import display, HTML\n",
    "\n",
    "url = \"https://www.password-depot.com/know-how/brute-force-attacks.htm\"\n",
    "page = urllib.request.urlopen(url)\n",
    "soup = BeautifulSoup(page, 'lxml') # getting html tags\n",
    "table = soup.find('table', {'stdbl': ''}) # finding table with data \n",
    "char_speeds = {} # dictionary to extract password length and corresponding time to crack from table\n",
    "\n",
    "rows = table.findChildren('p') # all the text in the table\n",
    "# looping through the row to extract just the password length and time taken to extract\n",
    "times = []\n",
    "for cell in rows:\n",
    "    times.append(cell.findAll(\"strong\"))\n",
    "\n",
    "# clean the list from the empty items\n",
    "times = [x for x in times if len(x) != 0]\n",
    "\n",
    "# loop and create the dictionary with keys and values representing password length and time taken to crack that password\n",
    "sent = 0\n",
    "while True:\n",
    "    pl = str(times[sent])[9:-10]\n",
    "    sent += 1\n",
    "    tt = str(times[sent])[9:-10]\n",
    "    char_speeds[pl] = tt\n",
    "    sent += 1\n",
    "    if sent == len(times):\n",
    "        break\n",
    "        \n",
    "from IPython.display import display, HTML\n",
    "\n",
    "HTML('<style>{}</style>'.format(CSS))\n",
    "\n",
    "# make new dataframe showing the relationship\n",
    "chsp = pd.DataFrame({\"length of password\": list(char_speeds.keys()),\n",
    "                     \"time taken to crack\": list(char_speeds.values())})\n",
    "print(\"at 800 billion keystrokes per second data\\n\",\"-----------------------\")\n",
    "display(chsp)\n",
    "print(\"at my computer's speed\\n\",\"-----------------------\")\n",
    "display(speeds)"
   ]
  },
  {
   "cell_type": "markdown",
   "metadata": {},
   "source": [
    "It is clearly notable that even though it takes a signifcantly smaller amount of time to crack these passwords, given the proper resources. One that still stands out is the 12 character password, and this pretty much reinforces that if you have a 12 character password you are safe. But is this feature really being used? We can go through a sample of 61000+ passwords and check how many are actually over this limit."
   ]
  },
  {
   "cell_type": "markdown",
   "metadata": {},
   "source": [
    "*transition to analysis of actual dataset, after stating hypothesis*"
   ]
  },
  {
   "cell_type": "code",
   "execution_count": 40,
   "metadata": {
    "collapsed": false,
    "scrolled": true
   },
   "outputs": [],
   "source": [
    "p = pd.read_csv('8-more-passwords.txt', delim_whitespace=True, header=None) # reading csv with passwords\n",
    "p.columns = ['Passwords']"
   ]
  },
  {
   "cell_type": "code",
   "execution_count": 41,
   "metadata": {
    "collapsed": false,
    "scrolled": true
   },
   "outputs": [],
   "source": [
    "# add lists categorizing the different types of chars\n",
    "rHand = \"6^7&8*9(0)-_=+yYuUiIoOpP[{]}\\|hHjJkKlL;:'nNmM,<.>/?\" # chars typed by right hand\n",
    "lHand = \"1!2@3#4$5%qwertasdfgzxcvbQWERTASDFGZXCVB\" # chars typed by left hand\n",
    "punc_in = string.punctuation # special characters (punctuation)\n",
    "nums_in = \"1234567890\" # all the numbers\n",
    "vows_in = \"aeiouAEIOU\" # all the vowels"
   ]
  },
  {
   "cell_type": "markdown",
   "metadata": {},
   "source": [
    "After extracting the passwords from the text file, it is easy to then make lists of characters that categorize different traits for a string. So can then add the corresponding columns of these lists by looping through the passwords and adding up how many times each char falls into the categories."
   ]
  },
  {
   "cell_type": "code",
   "execution_count": 42,
   "metadata": {
    "collapsed": false
   },
   "outputs": [
    {
     "name": "stdout",
     "output_type": "stream",
     "text": [
      "passwords data\n",
      " -----------------------\n"
     ]
    },
    {
     "data": {
      "text/html": [
       "<div>\n",
       "<table border=\"1\" class=\"dataframe\">\n",
       "  <thead>\n",
       "    <tr style=\"text-align: right;\">\n",
       "      <th></th>\n",
       "      <th>Passwords</th>\n",
       "      <th>Length</th>\n",
       "      <th>Right Hand</th>\n",
       "      <th>Left Hand</th>\n",
       "      <th>Puncuations</th>\n",
       "      <th>Numbers</th>\n",
       "      <th>Vowels</th>\n",
       "      <th>Uppercase</th>\n",
       "      <th>Lowercase</th>\n",
       "    </tr>\n",
       "  </thead>\n",
       "  <tbody>\n",
       "    <tr>\n",
       "      <th>0</th>\n",
       "      <td>Ainslie1</td>\n",
       "      <td>8</td>\n",
       "      <td>4</td>\n",
       "      <td>4</td>\n",
       "      <td>0</td>\n",
       "      <td>1</td>\n",
       "      <td>4</td>\n",
       "      <td>1</td>\n",
       "      <td>6</td>\n",
       "    </tr>\n",
       "    <tr>\n",
       "      <th>1</th>\n",
       "      <td>146Dudley</td>\n",
       "      <td>9</td>\n",
       "      <td>4</td>\n",
       "      <td>5</td>\n",
       "      <td>0</td>\n",
       "      <td>3</td>\n",
       "      <td>2</td>\n",
       "      <td>1</td>\n",
       "      <td>5</td>\n",
       "    </tr>\n",
       "    <tr>\n",
       "      <th>2</th>\n",
       "      <td>Amanda94</td>\n",
       "      <td>8</td>\n",
       "      <td>3</td>\n",
       "      <td>5</td>\n",
       "      <td>0</td>\n",
       "      <td>2</td>\n",
       "      <td>3</td>\n",
       "      <td>1</td>\n",
       "      <td>5</td>\n",
       "    </tr>\n",
       "    <tr>\n",
       "      <th>3</th>\n",
       "      <td>Ambrose1</td>\n",
       "      <td>8</td>\n",
       "      <td>2</td>\n",
       "      <td>6</td>\n",
       "      <td>0</td>\n",
       "      <td>1</td>\n",
       "      <td>3</td>\n",
       "      <td>1</td>\n",
       "      <td>6</td>\n",
       "    </tr>\n",
       "    <tr>\n",
       "      <th>4</th>\n",
       "      <td>Yorkshire1</td>\n",
       "      <td>10</td>\n",
       "      <td>5</td>\n",
       "      <td>5</td>\n",
       "      <td>0</td>\n",
       "      <td>1</td>\n",
       "      <td>3</td>\n",
       "      <td>1</td>\n",
       "      <td>8</td>\n",
       "    </tr>\n",
       "  </tbody>\n",
       "</table>\n",
       "</div>"
      ],
      "text/plain": [
       "    Passwords  Length  Right Hand  Left Hand  Puncuations  Numbers  Vowels  \\\n",
       "0    Ainslie1       8           4          4            0        1       4   \n",
       "1   146Dudley       9           4          5            0        3       2   \n",
       "2    Amanda94       8           3          5            0        2       3   \n",
       "3    Ambrose1       8           2          6            0        1       3   \n",
       "4  Yorkshire1      10           5          5            0        1       3   \n",
       "\n",
       "   Uppercase  Lowercase  \n",
       "0          1          6  \n",
       "1          1          5  \n",
       "2          1          5  \n",
       "3          1          6  \n",
       "4          1          8  "
      ]
     },
     "metadata": {},
     "output_type": "display_data"
    }
   ],
   "source": [
    "# dicts for each category of char\n",
    "keys = np.arange(61682)\n",
    "right = dict(zip(keys, [0] * len(keys)))\n",
    "left = dict(zip(keys, [0] * len(keys)))\n",
    "punctuations = dict(zip(keys, [0] * len(keys)))\n",
    "numbers = dict(zip(keys, [0] * len(keys)))\n",
    "vowels = dict(zip(keys, [0] * len(keys)))\n",
    "length = dict(zip(keys, [0] * len(keys)))\n",
    "upper = dict(zip(keys, [0] * len(keys)))\n",
    "lower = dict(zip(keys, [0] * len(keys)))\n",
    "# list that contains these dicts\n",
    "    \n",
    "sent = 0 # sentinel keeps track of index in dicts\n",
    "for i in p.loc[:, \"Passwords\"]:\n",
    "    length[sent] = len(i)\n",
    "    for char in i:\n",
    "        if char in rHand:\n",
    "            right[sent] += 1\n",
    "        if char in lHand:\n",
    "            left[sent] += 1\n",
    "        if char in punc_in:\n",
    "            punctuations[sent] += 1    \n",
    "        if char in nums_in:\n",
    "            numbers[sent] += 1 \n",
    "        if char in vows_in:\n",
    "            vowels[sent] += 1 \n",
    "        if char.islower():\n",
    "            lower[sent] += 1\n",
    "        if char.isupper():\n",
    "            upper[sent] += 1\n",
    "    sent += 1\n",
    "\n",
    "p[\"Length\"] = pd.Series(length)\n",
    "p[\"Right Hand\"] = pd.Series(right)\n",
    "p[\"Left Hand\"] = pd.Series(left)\n",
    "p[\"Puncuations\"] = pd.Series(punctuations)\n",
    "p[\"Numbers\"] = pd.Series(numbers)\n",
    "p[\"Vowels\"] = pd.Series(vowels)\n",
    "p[\"Uppercase\"] = pd.Series(upper)\n",
    "p[\"Lowercase\"] = pd.Series(lower)\n",
    "print(\"passwords data\\n\",\"-----------------------\")\n",
    "display(p.head())"
   ]
  },
  {
   "cell_type": "markdown",
   "metadata": {},
   "source": [
    "We can now plot this data to find how many passwords are \"crackable\" in a relatively unsafe amount of time. Anything more than around 10-11 characters is probably safe from a brute-force method of being cracked. "
   ]
  },
  {
   "cell_type": "code",
   "execution_count": 43,
   "metadata": {
    "collapsed": false
   },
   "outputs": [
    {
     "name": "stdout",
     "output_type": "stream",
     "text": [
      "length of the average passowrd is: 8.98 characters\n"
     ]
    },
    {
     "data": {
      "text/plain": [
       "8     33803\n",
       "10    11337\n",
       "9      9461\n",
       "11     3339\n",
       "12     1903\n",
       "13      962\n",
       "14      453\n",
       "15      232\n",
       "16      120\n",
       "17       28\n",
       "19       21\n",
       "18       15\n",
       "20        4\n",
       "7         4\n",
       "Name: Length, dtype: int64"
      ]
     },
     "metadata": {},
     "output_type": "display_data"
    },
    {
     "name": "stdout",
     "output_type": "stream",
     "text": [
      "passwords of length 8 make up 54.80% of all of the passwords\n"
     ]
    },
    {
     "data": {
      "image/png": "[encoded data removed]",
      "text/plain": [
       "<matplotlib.figure.Figure at 0x11bf4add8>"
      ]
     },
     "metadata": {
      "image/png": {
       "height": 263,
       "width": 398
      }
     },
     "output_type": "display_data"
    }
   ],
   "source": [
    "# graping with seaborn\n",
    "sns.countplot(data=p, x=\"Length\")\n",
    "print(\"length of the average passowrd is: {0:.2f} characters\".format(np.mean(p.Length)))\n",
    "occ = p.Length.value_counts()\n",
    "display(occ)\n",
    "print(\"passwords of length 8 make up {0:.2f}% of all of the passwords\".format(100*occ[8]/len(p)))"
   ]
  }
 ],
 "metadata": {
  "kernelspec": {
   "display_name": "Python 3",
   "language": "python",
   "name": "python3"
  },
  "language_info": {
   "codemirror_mode": {
    "name": "ipython",
    "version": 3
   },
   "file_extension": ".py",
   "mimetype": "text/x-python",
   "name": "python",
   "nbconvert_exporter": "python",
   "pygments_lexer": "ipython3",
   "version": "3.6.0"
  }
 },
 "nbformat": 4,
 "nbformat_minor": 2
}
