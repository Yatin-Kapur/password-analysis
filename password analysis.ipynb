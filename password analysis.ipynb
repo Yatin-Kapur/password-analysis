{
 "cells": [
  {
   "cell_type": "markdown",
   "metadata": {},
   "source": [
    "# Introduction\n",
    "The motivation behind this notebook is to determine how strong a password is. And not just by looking at entropy analysis or how complex a password is, but by looking at the correlation of password strength and how it varies when compared against a number of different categories which we can categorize the password string by.\n",
    "\n",
    "# Background Research\n",
    "It is so often said to us that we should use passwords that are not common words. But let's say my password is 'klo$0', instead of what I would usually use (not) 'y@tin'.\n",
    "\n",
    "Both these passwords are 5 characters each. The idea is that a computer program can probably guess these passwords in an insignificant amount of time can be worrying. Let's just try it ourselves and see how long it would take for a computer to find these two passwords:"
   ]
  },
  {
   "cell_type": "code",
   "execution_count": 1,
   "metadata": {
    "collapsed": false
   },
   "outputs": [
    {
     "name": "stdout",
     "output_type": "stream",
     "text": [
      "It took 0.0000958443 seconds to guess a random 5 character string from a range of characters 94 characters long\n"
     ]
    }
   ],
   "source": [
    "import time\n",
    "import string\n",
    "import random\n",
    "\n",
    "# all the characters that can be used in a password\n",
    "all_chars = string.ascii_uppercase + string.ascii_lowercase + string.punctuation + string.digits\n",
    "slen = len(all_chars)\n",
    "# calculating time for random 5 character string:\n",
    "start_rand = time.time()\n",
    "check = ''.join(random.choice(all_chars) for _ in range(5))\n",
    "end_rand = time.time()\n",
    "elapsed = end_rand - start_rand\n",
    "print(\"It took {0:.10f} seconds to guess a random 5 character string from a range of characters {1} characters long\".format(elapsed, slen))"
   ]
  },
  {
   "cell_type": "markdown",
   "metadata": {},
   "source": [
    "We know that there are 5 possibilities, and we also know that there are 94 characters to chose from. So we can have 94^5 possible combinations of possible 5 character strings. As such, we can multiply the number of combinations with the amount of time it takes to compute one combination, and find out how much time (years) it would have at most taken to guess a random password of 5 characters. "
   ]
  },
  {
   "cell_type": "code",
   "execution_count": 2,
   "metadata": {
    "collapsed": false
   },
   "outputs": [
    {
     "name": "stdout",
     "output_type": "stream",
     "text": [
      "It will take at most 0.022305 years to guess your 5 character password!\n"
     ]
    }
   ],
   "source": [
    "pos = 94 ** 5\n",
    "total = pos * elapsed # total time taken\n",
    "days = total / 86400 # seconds to days conversion\n",
    "years = days / 365 # days to years conversion\n",
    "print(\"It will take at most {0:.5} years to guess your 5 character password!\".format(years))"
   ]
  },
  {
   "cell_type": "markdown",
   "metadata": {},
   "source": [
    "So if I don't change my password every few weeks, it could potentially be hacked. Now obviously my password is not that low, because let's observe what happens when we change the number of characters in the password from 5 to 12."
   ]
  },
  {
   "cell_type": "code",
   "execution_count": 3,
   "metadata": {
    "collapsed": false,
    "scrolled": true
   },
   "outputs": [],
   "source": [
    "import pandas as pd\n",
    "import numpy as np\n",
    "import matplotlib\n",
    "from matplotlib import pyplot as plt\n",
    "%matplotlib inline\n",
    "%config InlineBackend.figure_format = 'retina'\n",
    "import seaborn as sns\n",
    "\n",
    "# define function to check for how long it would take to generate passowrd of n characters from a set of char chars characters\n",
    "pass_speeds = [] # parallel lists keeping track of speeds and corresponding number of chars\n",
    "num_chars = []\n",
    "def guess(n, chars):\n",
    "    check = ''.join(random.choice(all_chars) for _ in range(n))\n",
    "    pos = chars ** n\n",
    "    total = pos * elapsed # total time taken\n",
    "    days = total / 86400 # seconds to days conversion\n",
    "    years = days / 365 # days to years conversion\n",
    "    years = float(\"{0:.2f}\".format(years))\n",
    "    num_chars.append(str(n) + \" characters\")\n",
    "    pass_speeds.append(str(years) + \" years\")\n",
    "\n",
    "\n",
    "# call function from ranges of 5 to 12 to populate dictionary with values\n",
    "for i in range(5,13):\n",
    "    guess(i, 94)\n",
    "\n",
    "# create data frame with speeds of corresponding password lengths\n",
    "speeds = pd.DataFrame({\"time taken to crack (94 character list)\": pass_speeds, \"length of password\": num_chars})\n",
    "pass_speeds=[]"
   ]
  },
  {
   "cell_type": "markdown",
   "metadata": {},
   "source": [
    "Look at that, the longer your password is, the longer it will take to crack it using a computer. At this point it is probably right to think that it might be a bit overkill to make a password of anything near 9 characters. But remember that these operations can be made easier with synchronization of more than one computer together, and these computers that which can probably operate at much, much higher speeds than mine. This website https://www.password-depot.com/know-how/brute-force-attacks.htm shows to us that in the http://www.distributed.net/RC5/en project, multiple contributors can try up to a total of 800 billion keys per second. And this drastically decreases the amount of time needed to crack passwords of a length between 5-12."
   ]
  },
  {
   "cell_type": "code",
   "execution_count": 4,
   "metadata": {
    "collapsed": false
   },
   "outputs": [
    {
     "name": "stdout",
     "output_type": "stream",
     "text": [
      "at 800 billion keystrokes per second data\n",
      " -----------------------\n"
     ]
    },
    {
     "data": {
      "text/html": [
       "<div>\n",
       "<table border=\"1\" class=\"dataframe\">\n",
       "  <thead>\n",
       "    <tr style=\"text-align: right;\">\n",
       "      <th></th>\n",
       "      <th>length of password</th>\n",
       "      <th>time taken to crack (94 character list)</th>\n",
       "    </tr>\n",
       "  </thead>\n",
       "  <tbody>\n",
       "    <tr>\n",
       "      <th>0</th>\n",
       "      <td>5 characters</td>\n",
       "      <td>0.03 seconds</td>\n",
       "    </tr>\n",
       "    <tr>\n",
       "      <th>1</th>\n",
       "      <td>7 characters</td>\n",
       "      <td>approx, 9 minutes</td>\n",
       "    </tr>\n",
       "    <tr>\n",
       "      <th>2</th>\n",
       "      <td>8 characters</td>\n",
       "      <td>approx, 2,6 days</td>\n",
       "    </tr>\n",
       "    <tr>\n",
       "      <th>3</th>\n",
       "      <td>9 characters</td>\n",
       "      <td>approx, 9,1 years</td>\n",
       "    </tr>\n",
       "    <tr>\n",
       "      <th>4</th>\n",
       "      <td>12 characters</td>\n",
       "      <td>approx, 7,5 million years</td>\n",
       "    </tr>\n",
       "  </tbody>\n",
       "</table>\n",
       "</div>"
      ],
      "text/plain": [
       "  length of password time taken to crack (94 character list)\n",
       "0       5 characters                            0.03 seconds\n",
       "1       7 characters                       approx, 9 minutes\n",
       "2       8 characters                        approx, 2,6 days\n",
       "3       9 characters                       approx, 9,1 years\n",
       "4     12 characters                approx, 7,5 million years"
      ]
     },
     "metadata": {},
     "output_type": "display_data"
    },
    {
     "name": "stdout",
     "output_type": "stream",
     "text": [
      "at my computer's speed\n",
      " -----------------------\n"
     ]
    },
    {
     "data": {
      "text/html": [
       "<div>\n",
       "<table border=\"1\" class=\"dataframe\">\n",
       "  <thead>\n",
       "    <tr style=\"text-align: right;\">\n",
       "      <th></th>\n",
       "      <th>length of password</th>\n",
       "      <th>time taken to crack (94 character list)</th>\n",
       "    </tr>\n",
       "  </thead>\n",
       "  <tbody>\n",
       "    <tr>\n",
       "      <th>0</th>\n",
       "      <td>5 characters</td>\n",
       "      <td>0.02 years</td>\n",
       "    </tr>\n",
       "    <tr>\n",
       "      <th>1</th>\n",
       "      <td>6 characters</td>\n",
       "      <td>2.1 years</td>\n",
       "    </tr>\n",
       "    <tr>\n",
       "      <th>2</th>\n",
       "      <td>7 characters</td>\n",
       "      <td>197.09 years</td>\n",
       "    </tr>\n",
       "    <tr>\n",
       "      <th>3</th>\n",
       "      <td>8 characters</td>\n",
       "      <td>18526.03 years</td>\n",
       "    </tr>\n",
       "    <tr>\n",
       "      <th>4</th>\n",
       "      <td>9 characters</td>\n",
       "      <td>1741446.85 years</td>\n",
       "    </tr>\n",
       "    <tr>\n",
       "      <th>5</th>\n",
       "      <td>10 characters</td>\n",
       "      <td>163696003.85 years</td>\n",
       "    </tr>\n",
       "    <tr>\n",
       "      <th>6</th>\n",
       "      <td>11 characters</td>\n",
       "      <td>15387424361.99 years</td>\n",
       "    </tr>\n",
       "    <tr>\n",
       "      <th>7</th>\n",
       "      <td>12 characters</td>\n",
       "      <td>1446417890026.64 years</td>\n",
       "    </tr>\n",
       "  </tbody>\n",
       "</table>\n",
       "</div>"
      ],
      "text/plain": [
       "  length of password time taken to crack (94 character list)\n",
       "0       5 characters                              0.02 years\n",
       "1       6 characters                               2.1 years\n",
       "2       7 characters                            197.09 years\n",
       "3       8 characters                          18526.03 years\n",
       "4       9 characters                        1741446.85 years\n",
       "5      10 characters                      163696003.85 years\n",
       "6      11 characters                    15387424361.99 years\n",
       "7      12 characters                  1446417890026.64 years"
      ]
     },
     "metadata": {},
     "output_type": "display_data"
    }
   ],
   "source": [
    "import urllib\n",
    "from bs4 import BeautifulSoup\n",
    "from IPython.display import display, HTML\n",
    "\n",
    "url = \"https://www.password-depot.com/know-how/brute-force-attacks.htm\"\n",
    "page = urllib.request.urlopen(url)\n",
    "soup = BeautifulSoup(page, 'lxml') # getting html tags\n",
    "table = soup.find('table', {'stdbl': ''}) # finding table with data \n",
    "char_speeds = {} # dictionary to extract password length and corresponding time to crack from table\n",
    "\n",
    "rows = table.findChildren('p') # all the text in the table\n",
    "# looping through the row to extract just the password length and time taken to extract\n",
    "times = []\n",
    "for cell in rows:\n",
    "    times.append(cell.findAll(\"strong\"))\n",
    "\n",
    "# clean the list from the empty items\n",
    "times = [x for x in times if len(x) != 0]\n",
    "\n",
    "# loop and create the dictionary with keys and values representing password length and time taken to crack that password\n",
    "sent = 0\n",
    "while True:\n",
    "    pl = str(times[sent])[9:-10]\n",
    "    sent += 1\n",
    "    tt = str(times[sent])[9:-10]\n",
    "    char_speeds[pl] = tt\n",
    "    sent += 1\n",
    "    if sent == len(times):\n",
    "        break\n",
    "\n",
    "# make new dataframe showing the relationship\n",
    "chsp = pd.DataFrame({\"length of password\": list(char_speeds.keys()),\n",
    "                     \"time taken to crack (94 character list)\": list(char_speeds.values())})\n",
    "print(\"at 800 billion keystrokes per second data\\n\",\"-----------------------\")\n",
    "display(chsp)\n",
    "print(\"at my computer's speed\\n\",\"-----------------------\")\n",
    "display(speeds)"
   ]
  },
  {
   "cell_type": "markdown",
   "metadata": {},
   "source": [
    "It is clearly notable that even though it takes a signifcantly smaller amount of time to crack these passwords, given the proper resources. One that still stands out is the 12 character password, and this pretty much reinforces that if you have a 12 character password you are safe. But is this feature really being used? We can go through a sample of 61682 passwords and check how many are actually over this limit."
   ]
  },
  {
   "cell_type": "markdown",
   "metadata": {},
   "source": [
    "# Analysis"
   ]
  },
  {
   "cell_type": "code",
   "execution_count": 5,
   "metadata": {
    "collapsed": false,
    "scrolled": true
   },
   "outputs": [],
   "source": [
    "p = pd.read_csv('8-more-passwords.txt', delim_whitespace=True, header=None) # reading csv with passwords\n",
    "p.columns = ['Passwords']"
   ]
  },
  {
   "cell_type": "code",
   "execution_count": 6,
   "metadata": {
    "collapsed": false,
    "scrolled": true
   },
   "outputs": [],
   "source": [
    "# add lists categorizing the different types of chars\n",
    "punc_in = string.punctuation # special characters (punctuation)\n",
    "nums_in = \"1234567890\" # all the numbers\n",
    "vows_in = \"aeiouAEIOU\" # all the vowels"
   ]
  },
  {
   "cell_type": "markdown",
   "metadata": {},
   "source": [
    "After extracting the passwords from the text file, it is easy to then make lists of characters that categorize different traits for a string. So can then add the corresponding columns of these lists by looping through the passwords and adding up how many times each char falls into the categories."
   ]
  },
  {
   "cell_type": "code",
   "execution_count": 7,
   "metadata": {
    "collapsed": false
   },
   "outputs": [
    {
     "name": "stdout",
     "output_type": "stream",
     "text": [
      "passwords data\n",
      " -----------------------\n"
     ]
    },
    {
     "data": {
      "text/html": [
       "<div>\n",
       "<table border=\"1\" class=\"dataframe\">\n",
       "  <thead>\n",
       "    <tr style=\"text-align: right;\">\n",
       "      <th></th>\n",
       "      <th>Passwords</th>\n",
       "      <th>Length</th>\n",
       "      <th>Punctuations</th>\n",
       "      <th>Numbers</th>\n",
       "      <th>Vowels</th>\n",
       "      <th>Uppercase</th>\n",
       "      <th>Lowercase</th>\n",
       "    </tr>\n",
       "  </thead>\n",
       "  <tbody>\n",
       "    <tr>\n",
       "      <th>0</th>\n",
       "      <td>Ainslie1</td>\n",
       "      <td>8</td>\n",
       "      <td>0</td>\n",
       "      <td>1</td>\n",
       "      <td>4</td>\n",
       "      <td>1</td>\n",
       "      <td>6</td>\n",
       "    </tr>\n",
       "    <tr>\n",
       "      <th>1</th>\n",
       "      <td>146Dudley</td>\n",
       "      <td>9</td>\n",
       "      <td>0</td>\n",
       "      <td>3</td>\n",
       "      <td>2</td>\n",
       "      <td>1</td>\n",
       "      <td>5</td>\n",
       "    </tr>\n",
       "    <tr>\n",
       "      <th>2</th>\n",
       "      <td>Amanda94</td>\n",
       "      <td>8</td>\n",
       "      <td>0</td>\n",
       "      <td>2</td>\n",
       "      <td>3</td>\n",
       "      <td>1</td>\n",
       "      <td>5</td>\n",
       "    </tr>\n",
       "    <tr>\n",
       "      <th>3</th>\n",
       "      <td>Ambrose1</td>\n",
       "      <td>8</td>\n",
       "      <td>0</td>\n",
       "      <td>1</td>\n",
       "      <td>3</td>\n",
       "      <td>1</td>\n",
       "      <td>6</td>\n",
       "    </tr>\n",
       "    <tr>\n",
       "      <th>4</th>\n",
       "      <td>Yorkshire1</td>\n",
       "      <td>10</td>\n",
       "      <td>0</td>\n",
       "      <td>1</td>\n",
       "      <td>3</td>\n",
       "      <td>1</td>\n",
       "      <td>8</td>\n",
       "    </tr>\n",
       "  </tbody>\n",
       "</table>\n",
       "</div>"
      ],
      "text/plain": [
       "    Passwords  Length  Punctuations  Numbers  Vowels  Uppercase  Lowercase\n",
       "0    Ainslie1       8             0        1       4          1          6\n",
       "1   146Dudley       9             0        3       2          1          5\n",
       "2    Amanda94       8             0        2       3          1          5\n",
       "3    Ambrose1       8             0        1       3          1          6\n",
       "4  Yorkshire1      10             0        1       3          1          8"
      ]
     },
     "metadata": {},
     "output_type": "display_data"
    }
   ],
   "source": [
    "# dicts for each category of char\n",
    "keys = np.arange(61682)\n",
    "punctuations = dict(zip(keys, [0] * len(keys)))\n",
    "numbers = dict(zip(keys, [0] * len(keys)))\n",
    "vowels = dict(zip(keys, [0] * len(keys)))\n",
    "length = dict(zip(keys, [0] * len(keys)))\n",
    "upper = dict(zip(keys, [0] * len(keys)))\n",
    "lower = dict(zip(keys, [0] * len(keys)))\n",
    "# list that contains these dicts\n",
    "    \n",
    "sent = 0 # sentinel keeps track of index in dicts\n",
    "for i in p.loc[:, \"Passwords\"]:\n",
    "    length[sent] = len(i)\n",
    "    for char in i:\n",
    "        if char in punc_in:\n",
    "            punctuations[sent] += 1    \n",
    "        if char in nums_in:\n",
    "            numbers[sent] += 1 \n",
    "        if char in vows_in:\n",
    "            vowels[sent] += 1 \n",
    "        if char.islower():\n",
    "            lower[sent] += 1\n",
    "        if char.isupper():\n",
    "            upper[sent] += 1\n",
    "    sent += 1\n",
    "\n",
    "p[\"Length\"] = pd.Series(length)\n",
    "p[\"Punctuations\"] = pd.Series(punctuations)\n",
    "p[\"Numbers\"] = pd.Series(numbers)\n",
    "p[\"Vowels\"] = pd.Series(vowels)\n",
    "p[\"Uppercase\"] = pd.Series(upper)\n",
    "p[\"Lowercase\"] = pd.Series(lower)\n",
    "print(\"passwords data\\n\",\"-----------------------\")\n",
    "display(p.head())"
   ]
  },
  {
   "cell_type": "markdown",
   "metadata": {},
   "source": [
    "We can now plot this data to find how many passwords are \"crackable\" in a relatively unsafe amount of time. Anything more than around 10-11 characters is probably safe from a brute-force method of being cracked. "
   ]
  },
  {
   "cell_type": "code",
   "execution_count": 8,
   "metadata": {
    "collapsed": false,
    "scrolled": true
   },
   "outputs": [
    {
     "name": "stdout",
     "output_type": "stream",
     "text": [
      "length of the average passowrd is: 8.98 characters\n"
     ]
    },
    {
     "data": {
      "text/plain": [
       "8     33803\n",
       "10    11337\n",
       "9      9461\n",
       "11     3339\n",
       "12     1903\n",
       "13      962\n",
       "14      453\n",
       "15      232\n",
       "16      120\n",
       "17       28\n",
       "19       21\n",
       "18       15\n",
       "20        4\n",
       "7         4\n",
       "Name: Length, dtype: int64"
      ]
     },
     "metadata": {},
     "output_type": "display_data"
    },
    {
     "name": "stdout",
     "output_type": "stream",
     "text": [
      "passwords of length 8 make up 54.80% of all of the passwords\n"
     ]
    },
    {
     "data": {
      "image/png": "[encoded data removed]",
      "text/plain": [
       "<matplotlib.figure.Figure at 0x1078e0160>"
      ]
     },
     "metadata": {
      "image/png": {
       "height": 343,
       "width": 509
      }
     },
     "output_type": "display_data"
    }
   ],
   "source": [
    "# graping with seaborn\n",
    "sns.countplot(data=p, x=\"Length\")\n",
    "print(\"length of the average passowrd is: {0:.2f} characters\".format(np.mean(p.Length)))\n",
    "occ = p.Length.value_counts()\n",
    "display(occ)\n",
    "print(\"passwords of length 8 make up {0:.2f}% of all of the passwords\".format(100*occ[8]/len(p)))\n",
    "\n",
    "# grouping passwords with more than average length:\n",
    "gtavg = [x for x in p.Passwords if len(x) >= 9]"
   ]
  },
  {
   "cell_type": "markdown",
   "metadata": {},
   "source": [
    "Pretty much what we find here is that 54.80% of the passwords in a sample of as many as 61628 passwords can be hacked in approx. 2.6 days, if we look at the webscraped data.\n",
    "\n",
    "That was just considering that we look at all 94 characters. But looking at the data, we can see that not all passwords contain a character from each character category. To see a clear distribution of what category is used most commonly. "
   ]
  },
  {
   "cell_type": "code",
   "execution_count": 9,
   "metadata": {
    "collapsed": false
   },
   "outputs": [
    {
     "name": "stdout",
     "output_type": "stream",
     "text": [
      "punctuations are seen in 9.04% of all the passwords in the sample\n"
     ]
    },
    {
     "data": {
      "image/png": "[encoded data removed]",
      "text/plain": [
       "<matplotlib.figure.Figure at 0x1078e00f0>"
      ]
     },
     "metadata": {
      "image/png": {
       "height": 343,
       "width": 509
      }
     },
     "output_type": "display_data"
    }
   ],
   "source": [
    "# making masked dataframe with true and false values\n",
    "mp = (p.loc[:, \"Length\":\"Lowercase\"]>0).sum()\n",
    "mask = pd.DataFrame({\"Category\": mp.index, \"Total\": mp.values})\n",
    "sns.barplot(data=mask, x=\"Category\", y=\"Total\")\n",
    "print(\"punctuations are seen in {0:.2f}% of all the passwords in the sample\".format(100*mp[\"Punctuations\"]/len(p)))"
   ]
  },
  {
   "cell_type": "markdown",
   "metadata": {},
   "source": [
    "We know that the punctuation method in string contains 32 characters. The fact that less than 10% of passwords contain these punctuation characters. Recall that initially we had 94 characters from which we can choose combinations to find passwords. So essentially, it is a lot more easier to eliminate those 32 characters and reduce the list to 62 characters. And this makes things a lot easier to guess. We can do a comparison with the chart we came up with earlier:"
   ]
  },
  {
   "cell_type": "code",
   "execution_count": 10,
   "metadata": {
    "collapsed": false
   },
   "outputs": [
    {
     "data": {
      "text/html": [
       "<div>\n",
       "<table border=\"1\" class=\"dataframe\">\n",
       "  <thead>\n",
       "    <tr style=\"text-align: right;\">\n",
       "      <th></th>\n",
       "      <th>length of password</th>\n",
       "      <th>time taken to crack (94 character list)</th>\n",
       "      <th>time taken to crack (62 character list)</th>\n",
       "    </tr>\n",
       "  </thead>\n",
       "  <tbody>\n",
       "    <tr>\n",
       "      <th>0</th>\n",
       "      <td>5 characters</td>\n",
       "      <td>0.02 years</td>\n",
       "      <td>0.0 years</td>\n",
       "    </tr>\n",
       "    <tr>\n",
       "      <th>1</th>\n",
       "      <td>6 characters</td>\n",
       "      <td>2.1 years</td>\n",
       "      <td>0.17 years</td>\n",
       "    </tr>\n",
       "    <tr>\n",
       "      <th>2</th>\n",
       "      <td>7 characters</td>\n",
       "      <td>197.09 years</td>\n",
       "      <td>10.7 years</td>\n",
       "    </tr>\n",
       "    <tr>\n",
       "      <th>3</th>\n",
       "      <td>8 characters</td>\n",
       "      <td>18526.03 years</td>\n",
       "      <td>663.58 years</td>\n",
       "    </tr>\n",
       "    <tr>\n",
       "      <th>4</th>\n",
       "      <td>9 characters</td>\n",
       "      <td>1741446.85 years</td>\n",
       "      <td>41141.94 years</td>\n",
       "    </tr>\n",
       "    <tr>\n",
       "      <th>5</th>\n",
       "      <td>10 characters</td>\n",
       "      <td>163696003.85 years</td>\n",
       "      <td>2550800.17 years</td>\n",
       "    </tr>\n",
       "    <tr>\n",
       "      <th>6</th>\n",
       "      <td>11 characters</td>\n",
       "      <td>15387424361.99 years</td>\n",
       "      <td>158149610.27 years</td>\n",
       "    </tr>\n",
       "    <tr>\n",
       "      <th>7</th>\n",
       "      <td>12 characters</td>\n",
       "      <td>1446417890026.64 years</td>\n",
       "      <td>9805275836.88 years</td>\n",
       "    </tr>\n",
       "  </tbody>\n",
       "</table>\n",
       "</div>"
      ],
      "text/plain": [
       "  length of password time taken to crack (94 character list)  \\\n",
       "0       5 characters                              0.02 years   \n",
       "1       6 characters                               2.1 years   \n",
       "2       7 characters                            197.09 years   \n",
       "3       8 characters                          18526.03 years   \n",
       "4       9 characters                        1741446.85 years   \n",
       "5      10 characters                      163696003.85 years   \n",
       "6      11 characters                    15387424361.99 years   \n",
       "7      12 characters                  1446417890026.64 years   \n",
       "\n",
       "  time taken to crack (62 character list)  \n",
       "0                               0.0 years  \n",
       "1                              0.17 years  \n",
       "2                              10.7 years  \n",
       "3                            663.58 years  \n",
       "4                          41141.94 years  \n",
       "5                        2550800.17 years  \n",
       "6                      158149610.27 years  \n",
       "7                     9805275836.88 years  "
      ]
     },
     "execution_count": 10,
     "metadata": {},
     "output_type": "execute_result"
    }
   ],
   "source": [
    "for i in range(5,13):\n",
    "    guess(i, 62)\n",
    "pass_speeds\n",
    "    \n",
    "speeds[\"time taken to crack (62 character list)\"] = pass_speeds\n",
    "pass_speeds=[] # making the speeds list empty again for later use\n",
    "speeds"
   ]
  },
  {
   "cell_type": "markdown",
   "metadata": {},
   "source": [
    "So to be as safe as they can be, all passwords should contain these special punctuation characters. What we skip here is that we only checked the number of passwords that contain only punctuation characters. Ones that contain something from each category are ultimately the most safe passwords.\n",
    "\n",
    "It would be easier to say that the longer your password, the better it is, but then if you use only numbers in the password, you face a total number 9^n possible combinations where n is the number of characters in the password. And that itself is so hard to memorize. What I'm trying to convey is that a computer will probably be programmed to guess passwords using these specific groups.\n",
    "\n",
    "It will check the combinations of all the letters (upper and lower), numbers, and punctuations. So it's actually good to choose characters from these different groups to make the password safer. \n",
    "\n",
    "To come back to that point I made earlier, we don't know how many of these have a character from each of these categories. So let's find that out:"
   ]
  },
  {
   "cell_type": "code",
   "execution_count": 11,
   "metadata": {
    "collapsed": false
   },
   "outputs": [
    {
     "name": "stdout",
     "output_type": "stream",
     "text": [
      "out of the 61682 passwords, there are only 3398 passwords that have a character from each category.\n",
      " that is 5.51% of passwords that have a character from the set of those 94 characters.\n"
     ]
    }
   ],
   "source": [
    "# masking everything to a boolean value\n",
    "masked_vals = p.iloc[:, 1:]>0\n",
    "\n",
    "# removing the false values from the entire table\n",
    "for i in range(5):\n",
    "    masked_vals = masked_vals[masked_vals.iloc[:, i]]\n",
    "\n",
    "# making list of words that do contain all these characters\n",
    "with_puncs = p.loc[masked_vals.index, \"Passwords\"]\n",
    "with_puncs.index = range(len(masked_vals)) # reindexing the \n",
    "\n",
    "print(\"out of the\", len(p), \"passwords, there are only\", len(masked_vals), \"passwords that have a character from each category.\\n that is {0:.2f}% of passwords that have a character from the set of those 94 characters.\".format(100*len(masked_vals)/len(p)))"
   ]
  },
  {
   "cell_type": "markdown",
   "metadata": {},
   "source": [
    "The average length, is less than 9 characters, and most of these passwords are made of characters from a subset of 62 characters. If we recall our table that uses data from a machine that can guess at 800 keystrokes per second, what we find is that at 94 characters, it took roughly ten years. So from a set of 62 characters, that time probably roughens down to less than 6 years (I'm just guessing). Meaning that the average password in this list of 61682 password can probably be cracked while that password is still being used. "
   ]
  },
  {
   "cell_type": "code",
   "execution_count": 12,
   "metadata": {
    "collapsed": false
   },
   "outputs": [
    {
     "data": {
      "text/html": [
       "<div>\n",
       "<table border=\"1\" class=\"dataframe\">\n",
       "  <thead>\n",
       "    <tr style=\"text-align: right;\">\n",
       "      <th></th>\n",
       "      <th>length of password</th>\n",
       "      <th>time taken to crack (94 character list)</th>\n",
       "    </tr>\n",
       "  </thead>\n",
       "  <tbody>\n",
       "    <tr>\n",
       "      <th>0</th>\n",
       "      <td>5 characters</td>\n",
       "      <td>0.03 seconds</td>\n",
       "    </tr>\n",
       "    <tr>\n",
       "      <th>1</th>\n",
       "      <td>7 characters</td>\n",
       "      <td>approx, 9 minutes</td>\n",
       "    </tr>\n",
       "    <tr>\n",
       "      <th>2</th>\n",
       "      <td>8 characters</td>\n",
       "      <td>approx, 2,6 days</td>\n",
       "    </tr>\n",
       "    <tr>\n",
       "      <th>3</th>\n",
       "      <td>9 characters</td>\n",
       "      <td>approx, 9,1 years</td>\n",
       "    </tr>\n",
       "    <tr>\n",
       "      <th>4</th>\n",
       "      <td>12 characters</td>\n",
       "      <td>approx, 7,5 million years</td>\n",
       "    </tr>\n",
       "  </tbody>\n",
       "</table>\n",
       "</div>"
      ],
      "text/plain": [
       "  length of password time taken to crack (94 character list)\n",
       "0       5 characters                            0.03 seconds\n",
       "1       7 characters                       approx, 9 minutes\n",
       "2       8 characters                        approx, 2,6 days\n",
       "3       9 characters                       approx, 9,1 years\n",
       "4     12 characters                approx, 7,5 million years"
      ]
     },
     "metadata": {},
     "output_type": "display_data"
    }
   ],
   "source": [
    "display(chsp)"
   ]
  },
  {
   "cell_type": "markdown",
   "metadata": {},
   "source": [
    "At this point, I also want to introduce another idea. Most of the character combinations that humans know, to be able to generate passwords from are words. And the plain fact that most passwords probably contain a word will make the process of guessing passwords much faster. For example, my approach is simple, and I came up with this in less a minute:\n",
    "\n",
    "1. check if the head or tail of the string are non alphabetical characters\n",
    "2. find length of password\n",
    "3. count number of non alphabetical characters in total\n",
    "4. if that number is the same as the number of non alphabetical characters at head/tail then the rest of the characters are simply just alphabets"
   ]
  },
  {
   "cell_type": "code",
   "execution_count": 13,
   "metadata": {
    "collapsed": false
   },
   "outputs": [],
   "source": [
    "import re # regex package for checking characters\n",
    "\n",
    "# setting regex expressions for alphabets and other characters\n",
    "alps = re.compile(r'[a-zA-Z]')\n",
    "hspec = re.compile(r'^[^a-zA-Z]+')\n",
    "lspec = re.compile(r'[^a-zA-Z]+$')"
   ]
  },
  {
   "cell_type": "markdown",
   "metadata": {},
   "source": [
    "Having set up the proper regex patterns to detect alphabetical and not alphabetical patterns, we can run this on our set of passwords and check how many of them follow a pattern where there actually is a word right in the middle of these passwords, with other special characters appended to the head or tail. "
   ]
  },
  {
   "cell_type": "code",
   "execution_count": 14,
   "metadata": {
    "collapsed": false,
    "scrolled": true
   },
   "outputs": [
    {
     "name": "stdout",
     "output_type": "stream",
     "text": [
      "10970 out of the 61682 passwords is the amount of passwords that either start or end with\n",
      " a non alphabetical character, or are sandwhiched between such characters\n",
      "8.683409298085689 is the average length of passwords \n"
     ]
    }
   ],
   "source": [
    "patt = 0 # counter for number of passwords that follow this pattern\n",
    "le = 0 # total length of all the words\n",
    "ht_pass = [] # list of these passwords\n",
    "for i in p.Passwords:\n",
    "    al = alps.findall(i)\n",
    "    hd = hspec.findall(i)\n",
    "    tl = lspec.findall(i)\n",
    "        \n",
    "    # head special characters\n",
    "    if len(i) == len(al) + len(hd) or len(i) == len(al) + len(tl) or len(i) == len(al) + len(tl) + len(hd):\n",
    "        ht_pass.append(i)\n",
    "        patt += 1\n",
    "        le += len(i)\n",
    "\n",
    "print(patt, \"out of the\", len(p), \"passwords is the amount of passwords that either start or end with\\n a non alphabetical character, or are sandwhiched between such characters\")\n",
    "print(le/patt, \"is the average length of passwords \")"
   ]
  },
  {
   "cell_type": "markdown",
   "metadata": {},
   "source": [
    "Something to notice here is that *the passwords that are of a predictable pattern (as above) are also below average in password length*, so on average, we need to use 94 characters and we cut that down to 52 after we guess the head and tail characters. At this point we can group all these differenty sets of passwords and look at which is actually the most \"brute-force proof\":\n",
    "\n",
    "The different groups we have are passwords:\n",
    "1. with more than or equal to the average length (9) (gtavg)\n",
    "2. with punctuations (with_puncs)\n",
    "3. head/tail non alphabetical characters (ht_pass)"
   ]
  },
  {
   "cell_type": "code",
   "execution_count": 15,
   "metadata": {
    "collapsed": false
   },
   "outputs": [],
   "source": [
    "# making dictionary with all the grouped data\n",
    "final = {}\n",
    "final[\"Passwords\"] = len(p)\n",
    "final[\"Password Length More than Average\"] = len(gtavg)\n",
    "final[\"With Punctuations\"] = len(with_puncs)\n",
    "final[\"Head/Tail Non Alphas\"] = len(ht_pass)"
   ]
  },
  {
   "cell_type": "markdown",
   "metadata": {},
   "source": [
    "At this point, I want to introduce entropy analysis. Entropy analysis is a measure of password strength, which is measured in bits. It's an equation which calculates this based on the entropy per symbol. And these symbols are characters in the common ASCII table, but they are sectionned in such a sense that if one of them comes up they are attributed to a specific entropy value.\n",
    "\n",
    "Since entropy is an objective measure of how strong a password is, we can look at how well these three groups corelate with their respective entropies. Which will give us an idea of how we should make our passwords.\n",
    "\n",
    "We can use BeautifulSoup again, to check for entropy using this equation: $$log_2{N}$$ where $$N = charset^{plen}$$ \n",
    "\n",
    "*charset = number of characters to choose from*, and \n",
    "*plen = password length in number of characters*"
   ]
  },
  {
   "cell_type": "code",
   "execution_count": 86,
   "metadata": {
    "collapsed": false
   },
   "outputs": [
    {
     "name": "stdout",
     "output_type": "stream",
     "text": [
      "94\n",
      "6095689385410816\n"
     ]
    },
    {
     "data": {
      "text/plain": [
       "52.4367108134211"
      ]
     },
     "execution_count": 86,
     "metadata": {},
     "output_type": "execute_result"
    }
   ],
   "source": [
    "# function calculates entropy\n",
    "def entropy(pw):\n",
    "    charset = 0\n",
    "    p, l, u, n = False, False, False, False\n",
    "    # adding the values of the charset used in the password\n",
    "    for char in pw:\n",
    "        if char in punc_in: p = True\n",
    "        elif char in nums_in: n = True\n",
    "        elif char.islower(): l = True\n",
    "        elif char.isupper(): u = True\n",
    "    # adding up the number of characters in the charset\n",
    "    if n: charset += len(nums_in)\n",
    "    if p: charset += len(punc_in)\n",
    "    if l: charset += 26\n",
    "    if u: charset += 26\n",
    "    print(charset)\n",
    "    \n",
    "    N = charset ** len(pw) \n",
    "    print(N)\n",
    "    ent = np.math.log(N, 2)\n",
    "    return ent\n",
    "\n",
    "p.loc[1, \"Passwords\"]\n",
    "entropy(\"Nitay!00\")\n"
   ]
  },
  {
   "cell_type": "code",
   "execution_count": null,
   "metadata": {
    "collapsed": true
   },
   "outputs": [],
   "source": []
  }
 ],
 "metadata": {
  "kernelspec": {
   "display_name": "Python 3",
   "language": "python",
   "name": "python3"
  },
  "language_info": {
   "codemirror_mode": {
    "name": "ipython",
    "version": 3
   },
   "file_extension": ".py",
   "mimetype": "text/x-python",
   "name": "python",
   "nbconvert_exporter": "python",
   "pygments_lexer": "ipython3",
   "version": "3.6.0"
  }
 },
 "nbformat": 4,
 "nbformat_minor": 2
}
